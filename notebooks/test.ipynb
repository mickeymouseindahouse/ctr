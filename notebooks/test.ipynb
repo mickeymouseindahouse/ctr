{
 "cells": [
  {
   "cell_type": "code",
   "id": "initial_id",
   "metadata": {
    "collapsed": true,
    "ExecuteTime": {
     "end_time": "2025-01-30T21:37:54.565748Z",
     "start_time": "2025-01-30T21:37:54.303361Z"
    }
   },
   "source": [
    "import numpy as np\n",
    "import pandas as pd"
   ],
   "outputs": [],
   "execution_count": 1
  },
  {
   "metadata": {
    "ExecuteTime": {
     "end_time": "2025-01-30T21:37:55.393854Z",
     "start_time": "2025-01-30T21:37:54.585778Z"
    }
   },
   "cell_type": "code",
   "source": "df = pd.read_csv('../data/train_dataset_full.csv')",
   "id": "dabf46b73a23669f",
   "outputs": [],
   "execution_count": 2
  },
  {
   "metadata": {
    "ExecuteTime": {
     "end_time": "2025-01-30T21:38:42.431218Z",
     "start_time": "2025-01-30T21:38:42.375879Z"
    }
   },
   "cell_type": "code",
   "source": "df[df.is_click == 1].count() / df[df.is_click == 0].count()",
   "id": "f8938f6186813791",
   "outputs": [
    {
     "data": {
      "text/plain": [
       "session_id                0.072475\n",
       "DateTime                  0.072476\n",
       "user_id                   0.072495\n",
       "product                   0.072511\n",
       "campaign_id               0.072499\n",
       "webpage_id                0.072452\n",
       "product_category_1        0.072477\n",
       "product_category_2        0.067418\n",
       "user_group_id             0.072476\n",
       "gender                    0.072488\n",
       "age_level                 0.072480\n",
       "user_depth                0.072473\n",
       "city_development_index    0.072671\n",
       "var_1                     0.072498\n",
       "is_click                  0.072474\n",
       "dtype: float64"
      ]
     },
     "execution_count": 4,
     "metadata": {},
     "output_type": "execute_result"
    }
   ],
   "execution_count": 4
  },
  {
   "metadata": {},
   "cell_type": "code",
   "outputs": [],
   "execution_count": null,
   "source": "from sklearn.model_selection import train_test_split",
   "id": "f689fff01bfc4ae2"
  }
 ],
 "metadata": {
  "kernelspec": {
   "display_name": "Python 3",
   "language": "python",
   "name": "python3"
  },
  "language_info": {
   "codemirror_mode": {
    "name": "ipython",
    "version": 2
   },
   "file_extension": ".py",
   "mimetype": "text/x-python",
   "name": "python",
   "nbconvert_exporter": "python",
   "pygments_lexer": "ipython2",
   "version": "2.7.6"
  }
 },
 "nbformat": 4,
 "nbformat_minor": 5
}
